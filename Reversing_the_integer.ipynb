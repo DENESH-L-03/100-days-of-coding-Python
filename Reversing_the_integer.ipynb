{
  "nbformat": 4,
  "nbformat_minor": 0,
  "metadata": {
    "colab": {
      "provenance": [],
      "authorship_tag": "ABX9TyN0ZdVXgT2+mE0xT1uPz2Rx",
      "include_colab_link": true
    },
    "kernelspec": {
      "name": "python3",
      "display_name": "Python 3"
    },
    "language_info": {
      "name": "python"
    }
  },
  "cells": [
    {
      "cell_type": "markdown",
      "metadata": {
        "id": "view-in-github",
        "colab_type": "text"
      },
      "source": [
        "<a href=\"https://colab.research.google.com/github/DENESH-L-03/100-days-of-coding-Python/blob/main/Reversing_the_integer.ipynb\" target=\"_parent\"><img src=\"https://colab.research.google.com/assets/colab-badge.svg\" alt=\"Open In Colab\"/></a>"
      ]
    },
    {
      "cell_type": "code",
      "execution_count": 5,
      "metadata": {
        "colab": {
          "base_uri": "https://localhost:8080/"
        },
        "id": "p-6G0RpDaJ2u",
        "outputId": "50cbd386-2988-4f4e-8321-c3f447222d5b"
      },
      "outputs": [
        {
          "output_type": "stream",
          "name": "stdout",
          "text": [
            "Enter Number to reverse563\n",
            "365\n"
          ]
        }
      ],
      "source": [
        "def reverse():\n",
        "  num=input(\"Enter Number to reverse\" )\n",
        "  print(num[::-1])\n",
        "reverse()\n"
      ]
    },
    {
      "cell_type": "code",
      "source": [],
      "metadata": {
        "id": "lSYNgO_4au9l"
      },
      "execution_count": null,
      "outputs": []
    }
  ]
}