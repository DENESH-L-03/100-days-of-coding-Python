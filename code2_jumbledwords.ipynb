{
  "nbformat": 4,
  "nbformat_minor": 0,
  "metadata": {
    "colab": {
      "provenance": [],
      "authorship_tag": "ABX9TyN4zBWKng8sxfc3Vgg1355Y",
      "include_colab_link": true
    },
    "kernelspec": {
      "name": "python3",
      "display_name": "Python 3"
    },
    "language_info": {
      "name": "python"
    }
  },
  "cells": [
    {
      "cell_type": "markdown",
      "metadata": {
        "id": "view-in-github",
        "colab_type": "text"
      },
      "source": [
        "<a href=\"https://colab.research.google.com/github/DENESH-L-03/100-days-of-coding-Python/blob/main/code2_jumbledwords.ipynb\" target=\"_parent\"><img src=\"https://colab.research.google.com/assets/colab-badge.svg\" alt=\"Open In Colab\"/></a>"
      ]
    },
    {
      "cell_type": "markdown",
      "source": [
        "Permutauions jumbled word"
      ],
      "metadata": {
        "id": "OJm_fmaaP7_q"
      }
    },
    {
      "cell_type": "code",
      "source": [
        "import random"
      ],
      "metadata": {
        "id": "2FHCmo9MHAM2"
      },
      "execution_count": 2,
      "outputs": []
    },
    {
      "cell_type": "code",
      "source": [
        "def choose():\n",
        "  words=[ \"afterburner\", \"cockpit\", \"ejection seat\", \"missile\", \"radar\", \"dogfight\", \"supersonic\", \"afterburner\", \"aircraft carrier\", \"stealth technology\", \"chaff\", \"flares\", \"thrust vectoring\", \"air superiority\", \"aviation\", \"pilot\", \"wingman\", \"flyby\", \"sonic boom\", \"strafing\", \"infrared\", \"targeting pod\", \"airframe\", \"G-force\", \"jet engine\", \"maneuverability\", \"torque\", \"vertical takeoff\", \"throttle\", \"landing gear\", \"altitude\", \"canopy\", \"dive bombing\", \"external fuel tank\", \"formation flying\", \"ground attack\", \"hardpoint\", \"jet fuel\", \"knots\", \"Mach speed\", \"night vision\", \"overhaul\", \"pilotage\", \"quadrant\", \"reconnaissance\", \"stall speed\", \"tailslide\", \"undercarriage\", \"vapor cone\", \"wing loading\", \"yaw\", \"zeppelin\" ]\n",
        "  pick=random.choice(words)\n",
        "  return pick"
      ],
      "metadata": {
        "id": "2RlJQyUyHDOo"
      },
      "execution_count": 3,
      "outputs": []
    },
    {
      "cell_type": "code",
      "source": [
        "def jumble(word):\n",
        "  return(''.join(random.sample(word,len(word))))\n"
      ],
      "metadata": {
        "id": "yOJuTTFFLkDX"
      },
      "execution_count": 4,
      "outputs": []
    },
    {
      "cell_type": "code",
      "source": [
        "def play():\n",
        "  player1=input(\"Enter player1 name:  \")\n",
        "  player2=input(\"Enter player2 name:  \")\n",
        "  p1=0\n",
        "  p2=0\n",
        "  turn=0\n",
        "  while(1):\n",
        "    picked_word=choose()\n",
        "    qn=jumble(picked_word)\n",
        "    print(qn)\n",
        "    if (turn%2)==0:\n",
        "      print('Its',player1,\"'s turn\")\n",
        "      ans=input(\"Enter your answer: \")\n",
        "      if (ans==picked_word):\n",
        "        p1+=1\n",
        "        print(\"Right Answer chap!! lessgo. Player1 points: \",p1)\n",
        "      else:\n",
        "        print(\"Wrong Answer chap!!. The answer is\",picked_word)\n",
        "      c=int(input(\"Do you want to continue ?? \"))\n",
        "      if (c==0):\n",
        "          break\n",
        "    else:\n",
        "      print('Its',player2,\"'s turn\")\n",
        "      ans=input(\"Enter your answer: \")\n",
        "      if (ans==picked_word):\n",
        "        p2+=1\n",
        "        print(\"Right Answer chap!! lessgo. Player1 points+1\", p2)\n",
        "      else:\n",
        "        print(\"Wrong Answer chap!!. The answer is\",picked_word)\n",
        "      c=int(input(\"Do you want the game to continue ?? \"))\n",
        "      if c==0:\n",
        "          break\n",
        "    turn+=1\n",
        "play()"
      ],
      "metadata": {
        "colab": {
          "base_uri": "https://localhost:8080/"
        },
        "id": "54GEdZOdLpld",
        "outputId": "c6e6c33e-56a0-4b7b-b2a7-dbf8be768f64"
      },
      "execution_count": 7,
      "outputs": [
        {
          "name": "stdout",
          "output_type": "stream",
          "text": [
            "Enter player1 name:  Denesh\n",
            "Enter player2 name:  Akshayaa\n",
            "erarfmai\n",
            "Its Denesh 's turn\n",
            "Enter your answer: infrared\n",
            "Wrong Answer chap!!. The answer is airframe\n",
            "Do you want to continue ?? 1\n",
            "eedhMps ac\n",
            "Its Akshayaa 's turn\n",
            "Enter your answer: machspeed\n",
            "Wrong Answer chap!!. The answer is Mach speed\n",
            "Do you want to continue ?? 0\n"
          ]
        }
      ]
    },
    {
      "cell_type": "code",
      "source": [],
      "metadata": {
        "id": "OjKEq8-8HQbe"
      },
      "execution_count": null,
      "outputs": []
    }
  ]
}