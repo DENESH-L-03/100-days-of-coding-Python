{
  "nbformat": 4,
  "nbformat_minor": 0,
  "metadata": {
    "colab": {
      "provenance": [],
      "authorship_tag": "ABX9TyPH8gEXZh8gcp6ZpsKZnQzy",
      "include_colab_link": true
    },
    "kernelspec": {
      "name": "python3",
      "display_name": "Python 3"
    },
    "language_info": {
      "name": "python"
    }
  },
  "cells": [
    {
      "cell_type": "markdown",
      "metadata": {
        "id": "view-in-github",
        "colab_type": "text"
      },
      "source": [
        "<a href=\"https://colab.research.google.com/github/DENESH-L-03/100-days-of-coding-Python/blob/main/MagicSquare.ipynb\" target=\"_parent\"><img src=\"https://colab.research.google.com/assets/colab-badge.svg\" alt=\"Open In Colab\"/></a>"
      ]
    },
    {
      "cell_type": "code",
      "execution_count": null,
      "metadata": {
        "colab": {
          "base_uri": "https://localhost:8080/",
          "height": 35
        },
        "id": "uSa6GZVK5qVR",
        "outputId": "65f30ebf-be45-4a82-8f84-1f8be6571d97"
      },
      "outputs": [
        {
          "output_type": "execute_result",
          "data": {
            "text/plain": [
              "' Created on 13-10-2023\\n@author: Denesh L\\n'"
            ],
            "application/vnd.google.colaboratory.intrinsic+json": {
              "type": "string"
            }
          },
          "metadata": {},
          "execution_count": 1
        }
      ],
      "source": [
        "\"\"\" Created on 13-10-2023\n",
        "@author: Denesh L\n",
        "\"\"\""
      ]
    },
    {
      "cell_type": "code",
      "source": [
        "def magicSquare(n):\n",
        "  magicSquare=[]\n",
        "  for i in range(n):\n",
        "    l=[]\n",
        "    for j in range(n):\n",
        "      l.append(0)\n",
        "    magicSquare.append(l)\n",
        "\n",
        "  num=n**2\n",
        "  count=1\n",
        "  i=n//2  #1\n",
        "  j=n-1   #2\n",
        "  while(count<=num):\n",
        "    if(j==n and i==-1):\n",
        "      i=0\n",
        "      j=n-2\n",
        "    else:\n",
        "      if(j==n):\n",
        "        j=0\n",
        "      if (i<0):\n",
        "        i=n-1\n",
        "    if(magicSquare[i][j]!=0):\n",
        "      i+=1\n",
        "      j-=2\n",
        "      continue\n",
        "    else:\n",
        "      magicSquare[i][j]=count\n",
        "      count+=1\n",
        "      i-=1\n",
        "      j+=1\n",
        "  for i in range(n):\n",
        "    for j in range(n):\n",
        "      print(magicSquare[i][j],end=' ')\n",
        "    print()\n",
        "\n",
        "n=int(input(\"Enter the size of matrix: \"))\n",
        "magicSquare(n)\n",
        "\n",
        "\n",
        "\n",
        "\n",
        "\n"
      ],
      "metadata": {
        "id": "6ZOA0fcg8rY_",
        "colab": {
          "base_uri": "https://localhost:8080/"
        },
        "outputId": "7c65496f-14b6-49be-eac7-f9be74a49bac"
      },
      "execution_count": 9,
      "outputs": [
        {
          "output_type": "stream",
          "name": "stdout",
          "text": [
            "Enter the size of matrix: 5\n",
            "9 3 22 16 15 \n",
            "2 21 20 14 8 \n",
            "25 19 13 7 1 \n",
            "18 12 6 5 24 \n",
            "11 10 4 23 17 \n"
          ]
        }
      ]
    }
  ]
}