{
  "nbformat": 4,
  "nbformat_minor": 0,
  "metadata": {
    "colab": {
      "provenance": [],
      "authorship_tag": "ABX9TyNZW5dYPefYj/aLgOXZpg/t",
      "include_colab_link": true
    },
    "kernelspec": {
      "name": "python3",
      "display_name": "Python 3"
    },
    "language_info": {
      "name": "python"
    }
  },
  "cells": [
    {
      "cell_type": "markdown",
      "metadata": {
        "id": "view-in-github",
        "colab_type": "text"
      },
      "source": [
        "<a href=\"https://colab.research.google.com/github/DENESH-L-03/100-days-of-coding-Python/blob/main/PYTHAGORES_THEOREM.ipynb\" target=\"_parent\"><img src=\"https://colab.research.google.com/assets/colab-badge.svg\" alt=\"Open In Colab\"/></a>"
      ]
    },
    {
      "cell_type": "code",
      "execution_count": 6,
      "metadata": {
        "id": "sFApfFGOexfI"
      },
      "outputs": [],
      "source": [
        "def pythagores(s1,s2,s3):\n",
        "  lst=[s1,s2,s3]\n",
        "  if ((s1>s2 and s1>s3)or(s2>s1 and s2>s3)or(s3>s1 and s3>s2)):\n",
        "    if ((s1**2==s2**2+s3**2)or(s2**2==s1**2+s3**2)or(s3**2==s1**2+s2**2)):\n",
        "      print('YES')\n",
        "    else:\n",
        "      print('NO')\n"
      ]
    },
    {
      "cell_type": "code",
      "source": [
        "pythagores(3,4,6)"
      ],
      "metadata": {
        "colab": {
          "base_uri": "https://localhost:8080/"
        },
        "id": "jMLUTgPrsUan",
        "outputId": "b6acc398-828e-4003-e54a-af81f6179433"
      },
      "execution_count": 7,
      "outputs": [
        {
          "output_type": "stream",
          "name": "stdout",
          "text": [
            "NO\n"
          ]
        }
      ]
    },
    {
      "cell_type": "code",
      "source": [],
      "metadata": {
        "id": "_Buz4hIss061"
      },
      "execution_count": null,
      "outputs": []
    }
  ]
}